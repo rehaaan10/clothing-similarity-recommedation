{
 "cells": [
  {
   "cell_type": "markdown",
   "id": "b32a89f6",
   "metadata": {
    "id": "b32a89f6"
   },
   "source": [
    "### Importing Necessary libraries"
   ]
  },
  {
   "cell_type": "code",
   "execution_count": 6,
   "id": "4a0de579",
   "metadata": {
    "id": "4a0de579"
   },
   "outputs": [],
   "source": [
    "import pandas as pd\n",
    "import numpy as np\n",
    "import gensim\n",
    "from gensim.parsing.preprocessing import preprocess_documents\n",
    "from gensim.models.doc2vec import Doc2Vec, TaggedDocument\n",
    "from selenium import webdriver\n",
    "from bs4 import BeautifulSoup\n",
    "from urllib.parse import urljoin\n",
    "import pickle\n",
    "import re \n",
    "import os\n",
    "import spacy\n",
    "import time\n",
    "from webdriver_manager.chrome import ChromeDriverManager"
   ]
  },
  {
   "cell_type": "markdown",
   "id": "12dbb9ea",
   "metadata": {
    "id": "12dbb9ea"
   },
   "source": [
    "### Scraping the data from NIKE website"
   ]
  },
  {
   "cell_type": "code",
   "execution_count": 2,
   "id": "d2240fb9",
   "metadata": {
    "id": "d2240fb9"
   },
   "outputs": [],
   "source": [
    "\n",
    "\n",
    "# Empty lists to store the extracted data\n",
    "description = []\n",
    "link = []\n",
    "\n",
    "# Dictionary containing the category names as keys and their respective URLs as values\n",
    "url_dict = {\n",
    "    'mens-tops-t-shirts': 'https://www.nike.com/in/w/mens-tops-t-shirts-9om13znik1',\n",
    "    'womens-tops-t-shirts': 'https://www.nike.com/in/w/womens-tops-t-shirts-5e1x6z9om13',\n",
    "    'hoodies-sweatshirts': 'https://www.nike.com/in/w/hoodies-sweatshirts-5e1x6z6riveznik1',\n",
    "    'jackets-gilets': 'https://www.nike.com/in/w/jackets-gilets-50r7yz5e1x6znik1',\n",
    "    'shorts': 'https://www.nike.com/in/w/shorts-38fphz5e1x6znik1',\n",
    "    'trousers-tights': 'https://www.nike.com/in/w/trousers-tights-2kq19z5e1x6znik1',\n",
    "    'womens-skirts-dresses': 'https://www.nike.com/in/w/womens-skirts-dresses-5e1x6z8y3qp',\n",
    "    'womens-modest-wear': 'https://www.nike.com/in/w/womens-modest-wear-22fj5z5e1x6',\n",
    "    'womens-back-to-basics': 'https://www.nike.com/in/w/womens-back-to-basics-5e1x6zkkjj'\n",
    "}\n",
    "\n",
    "# Get the path to the current directory\n",
    "current_dir = os.path.dirname(os.path.abspath(__file__))\n",
    "\n",
    "# Construct the path to the Chrome driver\n",
    "driver_path = os.path.join(current_dir, \"chromedriver.exe\")\n",
    "\n",
    "# Check if the driver file exists\n",
    "if not os.path.isfile(driver_path):\n",
    "    # If the driver file doesn't exist, download and install it using ChromeDriverManager\n",
    "    driver_path = ChromeDriverManager().install()\n",
    " \n",
    "\n",
    "# Web scraping for infinite scrolling page\n",
    "for category, url in url_dict.items():\n",
    "    driver = webdriver.Chrome(executable_path=driver_path) # Use the Chrome driver with the specified path\n",
    "    driver.get(url)\n",
    "    time.sleep(2)  # Allow 2 seconds for the web page to open\n",
    "    scroll_pause_time = 1  # You can set your own pause time. My laptop is a bit slow so I use 1 sec\n",
    "    screen_height = driver.execute_script(\"return window.screen.height;\")  # Get the screen height of the web page\n",
    "    i = 1\n",
    "\n",
    "    while True:\n",
    "        # Scroll one screen height each time\n",
    "        driver.execute_script(\"window.scrollTo(0, {screen_height}*{i});\".format(screen_height=screen_height, i=i))\n",
    "        i += 1\n",
    "        time.sleep(scroll_pause_time)\n",
    "        # Update scroll height each time after scrolling, as the scroll height can change\n",
    "        scroll_height = driver.execute_script(\"return document.body.scrollHeight;\")\n",
    "        # Break the loop when the height we need to scroll to is larger than the total scroll height\n",
    "        if (screen_height) * i > scroll_height:\n",
    "            break \n",
    "\n",
    "    # Extract data from the page\n",
    "    soup = BeautifulSoup(driver.page_source, \"html.parser\")\n",
    "    description += [i.text for i in soup.find_all('div', class_=\"product-card__subtitle\")]\n",
    "    link += [a_tag['href'] for a_tag in soup.find_all('a', class_='product-card__img-link-overlay')]\n",
    "    \n",
    "    # Close the browser driver\n",
    "    driver.quit()\n",
    "\n",
    "# Create a DataFrame from the extracted data\n",
    "data = {\"description\": description, \"product_link\": link}\n",
    "df = pd.DataFrame(data)\n",
    "\n",
    "# Save the DataFrame to a CSV file\n",
    "df.to_csv('nike.csv', index=False)\n"
   ]
  },
  {
   "cell_type": "markdown",
   "id": "49ae2b4a",
   "metadata": {
    "id": "49ae2b4a"
   },
   "source": [
    "### Scraping the data from LEVI's website"
   ]
  },
  {
   "cell_type": "code",
   "execution_count": null,
   "id": "fb1ef410",
   "metadata": {
    "id": "fb1ef410",
    "outputId": "c978e30f-c456-4125-dd10-d8f9ebb6557c"
   },
   "outputs": [
    {
     "name": "stdout",
     "output_type": "stream",
     "text": [
      "<Response [200]>\n",
      "<Response [200]>\n",
      "<Response [200]>\n",
      "<Response [200]>\n",
      "<Response [200]>\n",
      "<Response [200]>\n",
      "<Response [200]>\n",
      "<Response [200]>\n",
      "<Response [200]>\n",
      "<Response [200]>\n",
      "<Response [200]>\n",
      "<Response [200]>\n",
      "<Response [200]>\n"
     ]
    },
    {
     "data": {
      "text/plain": [
       "(2789, 2)"
      ]
     },
     "execution_count": 78,
     "metadata": {},
     "output_type": "execute_result"
    }
   ],
   "source": [
    "import requests\n",
    "from bs4 import BeautifulSoup as bs\n",
    "import pandas as pd\n",
    "\n",
    "# URL dictionary containing different sections of Levi's men's and women's clothing\n",
    "url_dict1 = {\n",
    "    'men-t-shirts-polos': 'https://www.levi.in/men/clothing/t-shirts-polos?prefn1=items_type&prefv1=Polos%7CT-Shirts&sz=482',\n",
    "    'men-pants': 'https://www.levi.in/men/clothing/pants?sz=118',\n",
    "    'men-shorts': 'https://www.levi.in/men/clothing/shorts?sz=57',\n",
    "    'men-jackets': 'https://www.levi.in/men/clothing/jackets?sz=72',\n",
    "    'men-shirts': 'https://www.levi.in/men/clothing/shirts?sz=504',\n",
    "    'men-jeans': 'https://www.levi.in/men/clothing/jeans?sz=612',\n",
    "    'women-jeans': 'https://www.levi.in/women/clothing/jeans?sz=569',\n",
    "    'women-t-shirts-tops': 'https://www.levi.in/women/clothing/t-shirts-tops?sz=255',\n",
    "    'women-shirts': 'https://www.levi.in/women/clothing/shirts?sz=32',\n",
    "    'women-jackets': 'https://www.levi.in/women/clothing/jackets?sz=59',\n",
    "    'women-shorts-skirts': 'https://www.levi.in/women/clothing/shorts-skirts?sz=26',\n",
    "    'women-dresses-jumpsuits': 'https://www.levi.in/women/clothing/dresses-jumpsuits?sz=31',\n",
    "    'women-pants': 'https://www.levi.in/women/clothing/pants?sz=36'\n",
    "}\n",
    "\n",
    "# Initialize empty lists to store the data\n",
    "title = []\n",
    "description = []\n",
    "link = []\n",
    "\n",
    "# Iterate over each URL in the URL dictionary\n",
    "for section, url in url_dict1.items():\n",
    "    # Send a GET request to the website\n",
    "    response = requests.get(url)\n",
    "    \n",
    "    # Print the response status code\n",
    "    print(response)\n",
    "    \n",
    "    # Create a BeautifulSoup object to parse the HTML content\n",
    "    soup = bs(response.text)\n",
    "    \n",
    "    # Extract the description and link of each product using appropriate HTML tags and attributes\n",
    "    description += [i.text.strip('\\n') for i in soup.find_all('a', attrs={'class': 'name-link'})]\n",
    "    homepage = 'https://www.levi.in'\n",
    "    link += [homepage + a_tag['href'] for a_tag in soup.find_all('a', attrs={'class': 'name-link'})]\n",
    "\n",
    "# Create a dictionary containing the extracted data\n",
    "data1 = {\"description\": description, \"product_link\": link}\n",
    "\n",
    "# Create a pandas DataFrame using the dictionary\n",
    "df_levis = pd.DataFrame(data1)\n"
   ]
  },
  {
   "cell_type": "markdown",
   "id": "268cf88a",
   "metadata": {
    "id": "268cf88a"
   },
   "source": [
    "#### Merging two dataframe "
   ]
  },
  {
   "cell_type": "code",
   "execution_count": null,
   "id": "b3dffca3",
   "metadata": {
    "id": "b3dffca3",
    "outputId": "8d182780-adce-475a-db77-eb2c14f1e9a3"
   },
   "outputs": [
    {
     "data": {
      "text/plain": [
       "(1015, 2)"
      ]
     },
     "execution_count": 80,
     "metadata": {},
     "output_type": "execute_result"
    }
   ],
   "source": [
    "# Read the 'nike.csv' file into a pandas DataFrame\n",
    "df_nike = pd.read_csv('nike.csv')\n",
    "\n",
    "# Get the shape (number of rows and columns) of the DataFrame\n",
    "shape = df_nike.shape\n"
   ]
  },
  {
   "cell_type": "code",
   "execution_count": null,
   "id": "11a08442",
   "metadata": {
    "id": "11a08442"
   },
   "outputs": [],
   "source": [
    "\n",
    "# Append the 'df_levis' DataFrame to 'df_nike' DataFrame\n",
    "combined_df = df_nike.append(df_levis)\n",
    "\n",
    "# Write the combined DataFrame to a CSV file named 'clothing_similarity.csv' without including the index\n",
    "combined_df.to_csv('clothing_similarity.csv', index=False)\n"
   ]
  },
  {
   "cell_type": "code",
   "execution_count": 8,
   "id": "18c78a55",
   "metadata": {
    "colab": {
     "base_uri": "https://localhost:8080/",
     "height": 206
    },
    "id": "18c78a55",
    "outputId": "ec346f66-7b4c-4947-fe03-68c4579c93e0"
   },
   "outputs": [
    {
     "data": {
      "text/html": [
       "\n",
       "  <div id=\"df-72e76c30-8a7c-4a8e-a45d-9a0974db1647\">\n",
       "    <div class=\"colab-df-container\">\n",
       "      <div>\n",
       "<style scoped>\n",
       "    .dataframe tbody tr th:only-of-type {\n",
       "        vertical-align: middle;\n",
       "    }\n",
       "\n",
       "    .dataframe tbody tr th {\n",
       "        vertical-align: top;\n",
       "    }\n",
       "\n",
       "    .dataframe thead th {\n",
       "        text-align: right;\n",
       "    }\n",
       "</style>\n",
       "<table border=\"1\" class=\"dataframe\">\n",
       "  <thead>\n",
       "    <tr style=\"text-align: right;\">\n",
       "      <th></th>\n",
       "      <th>description</th>\n",
       "      <th>product_link</th>\n",
       "    </tr>\n",
       "  </thead>\n",
       "  <tbody>\n",
       "    <tr>\n",
       "      <th>3529</th>\n",
       "      <td>Women's Regular T-Shirt</td>\n",
       "      <td>https://www.levi.in/women/clothing/t-shirts-to...</td>\n",
       "    </tr>\n",
       "    <tr>\n",
       "      <th>1990</th>\n",
       "      <td>Men's Geometric Print Slim Fit Shirt</td>\n",
       "      <td>https://www.levi.in/men/clothing/shirts/mens-g...</td>\n",
       "    </tr>\n",
       "    <tr>\n",
       "      <th>3411</th>\n",
       "      <td>721 Redloop™ High Rise Skinny Jeans</td>\n",
       "      <td>https://www.levi.in/women/clothing/jeans/721-r...</td>\n",
       "    </tr>\n",
       "    <tr>\n",
       "      <th>3048</th>\n",
       "      <td>Women's Mid Rise 711 Skinny Fit Jeans</td>\n",
       "      <td>https://www.levi.in/women/clothing/jeans/women...</td>\n",
       "    </tr>\n",
       "    <tr>\n",
       "      <th>1584</th>\n",
       "      <td>Men's Beige Slim Tapered Fit Trousers</td>\n",
       "      <td>https://www.levi.in/men/clothing/pants/mens-be...</td>\n",
       "    </tr>\n",
       "  </tbody>\n",
       "</table>\n",
       "</div>\n",
       "      <button class=\"colab-df-convert\" onclick=\"convertToInteractive('df-72e76c30-8a7c-4a8e-a45d-9a0974db1647')\"\n",
       "              title=\"Convert this dataframe to an interactive table.\"\n",
       "              style=\"display:none;\">\n",
       "        \n",
       "  <svg xmlns=\"http://www.w3.org/2000/svg\" height=\"24px\"viewBox=\"0 0 24 24\"\n",
       "       width=\"24px\">\n",
       "    <path d=\"M0 0h24v24H0V0z\" fill=\"none\"/>\n",
       "    <path d=\"M18.56 5.44l.94 2.06.94-2.06 2.06-.94-2.06-.94-.94-2.06-.94 2.06-2.06.94zm-11 1L8.5 8.5l.94-2.06 2.06-.94-2.06-.94L8.5 2.5l-.94 2.06-2.06.94zm10 10l.94 2.06.94-2.06 2.06-.94-2.06-.94-.94-2.06-.94 2.06-2.06.94z\"/><path d=\"M17.41 7.96l-1.37-1.37c-.4-.4-.92-.59-1.43-.59-.52 0-1.04.2-1.43.59L10.3 9.45l-7.72 7.72c-.78.78-.78 2.05 0 2.83L4 21.41c.39.39.9.59 1.41.59.51 0 1.02-.2 1.41-.59l7.78-7.78 2.81-2.81c.8-.78.8-2.07 0-2.86zM5.41 20L4 18.59l7.72-7.72 1.47 1.35L5.41 20z\"/>\n",
       "  </svg>\n",
       "      </button>\n",
       "      \n",
       "  <style>\n",
       "    .colab-df-container {\n",
       "      display:flex;\n",
       "      flex-wrap:wrap;\n",
       "      gap: 12px;\n",
       "    }\n",
       "\n",
       "    .colab-df-convert {\n",
       "      background-color: #E8F0FE;\n",
       "      border: none;\n",
       "      border-radius: 50%;\n",
       "      cursor: pointer;\n",
       "      display: none;\n",
       "      fill: #1967D2;\n",
       "      height: 32px;\n",
       "      padding: 0 0 0 0;\n",
       "      width: 32px;\n",
       "    }\n",
       "\n",
       "    .colab-df-convert:hover {\n",
       "      background-color: #E2EBFA;\n",
       "      box-shadow: 0px 1px 2px rgba(60, 64, 67, 0.3), 0px 1px 3px 1px rgba(60, 64, 67, 0.15);\n",
       "      fill: #174EA6;\n",
       "    }\n",
       "\n",
       "    [theme=dark] .colab-df-convert {\n",
       "      background-color: #3B4455;\n",
       "      fill: #D2E3FC;\n",
       "    }\n",
       "\n",
       "    [theme=dark] .colab-df-convert:hover {\n",
       "      background-color: #434B5C;\n",
       "      box-shadow: 0px 1px 3px 1px rgba(0, 0, 0, 0.15);\n",
       "      filter: drop-shadow(0px 1px 2px rgba(0, 0, 0, 0.3));\n",
       "      fill: #FFFFFF;\n",
       "    }\n",
       "  </style>\n",
       "\n",
       "      <script>\n",
       "        const buttonEl =\n",
       "          document.querySelector('#df-72e76c30-8a7c-4a8e-a45d-9a0974db1647 button.colab-df-convert');\n",
       "        buttonEl.style.display =\n",
       "          google.colab.kernel.accessAllowed ? 'block' : 'none';\n",
       "\n",
       "        async function convertToInteractive(key) {\n",
       "          const element = document.querySelector('#df-72e76c30-8a7c-4a8e-a45d-9a0974db1647');\n",
       "          const dataTable =\n",
       "            await google.colab.kernel.invokeFunction('convertToInteractive',\n",
       "                                                     [key], {});\n",
       "          if (!dataTable) return;\n",
       "\n",
       "          const docLinkHtml = 'Like what you see? Visit the ' +\n",
       "            '<a target=\"_blank\" href=https://colab.research.google.com/notebooks/data_table.ipynb>data table notebook</a>'\n",
       "            + ' to learn more about interactive tables.';\n",
       "          element.innerHTML = '';\n",
       "          dataTable['output_type'] = 'display_data';\n",
       "          await google.colab.output.renderOutput(dataTable, element);\n",
       "          const docLink = document.createElement('div');\n",
       "          docLink.innerHTML = docLinkHtml;\n",
       "          element.appendChild(docLink);\n",
       "        }\n",
       "      </script>\n",
       "    </div>\n",
       "  </div>\n",
       "  "
      ],
      "text/plain": [
       "                                description  \\\n",
       "3529                Women's Regular T-Shirt   \n",
       "1990   Men's Geometric Print Slim Fit Shirt   \n",
       "3411    721 Redloop™ High Rise Skinny Jeans   \n",
       "3048  Women's Mid Rise 711 Skinny Fit Jeans   \n",
       "1584  Men's Beige Slim Tapered Fit Trousers   \n",
       "\n",
       "                                           product_link  \n",
       "3529  https://www.levi.in/women/clothing/t-shirts-to...  \n",
       "1990  https://www.levi.in/men/clothing/shirts/mens-g...  \n",
       "3411  https://www.levi.in/women/clothing/jeans/721-r...  \n",
       "3048  https://www.levi.in/women/clothing/jeans/women...  \n",
       "1584  https://www.levi.in/men/clothing/pants/mens-be...  "
      ]
     },
     "execution_count": 8,
     "metadata": {},
     "output_type": "execute_result"
    }
   ],
   "source": [
    "# Read the 'clothing_similarity.csv' file from the specified path into a new DataFrame named 'df'\n",
    "df = pd.read_csv('/content/drive/MyDrive/clothing_similarity.csv')\n",
    "\n",
    "# Randomly shuffle the rows of the DataFrame\n",
    "df = df.sample(frac=1)\n",
    "\n",
    "# Display the first few rows of the shuffled DataFrame\n",
    "df.head()"
   ]
  },
  {
   "cell_type": "markdown",
   "id": "5f0aad73",
   "metadata": {
    "id": "5f0aad73"
   },
   "source": [
    "### Preprocessing the data"
   ]
  },
  {
   "cell_type": "code",
   "execution_count": 9,
   "id": "7a449de5",
   "metadata": {
    "id": "7a449de5"
   },
   "outputs": [],
   "source": [
    "\n",
    "# Define a function to remove \"Levi's®\" from a string and strip extra whitespace\n",
    "def preprocess(string):\n",
    "    regex = re.compile(\"Levi's®\")\n",
    "    return regex.sub('', string).strip(' ')\n",
    "\n",
    "# Apply the 'preprocess' function to the 'description' column of the DataFrame\n",
    "df['description'] = df['description'].apply(preprocess)\n",
    "\n",
    "# Load the spaCy English model\n",
    "nlp = spacy.load('en_core_web_sm')\n",
    "\n",
    "# Define a function to preprocess text using spaCy\n",
    "def preprocess_text(text):\n",
    "    # Convert the text to lowercase\n",
    "    text = text.lower()\n",
    "\n",
    "    # Tokenize the text using spaCy\n",
    "    doc = nlp(text)\n",
    "\n",
    "    # Remove stopwords and lemmatize tokens\n",
    "    tokens = [token.lemma_ for token in doc if not token.is_stop]\n",
    "\n",
    "    return tokens\n"
   ]
  },
  {
   "cell_type": "markdown",
   "id": "d0ded3fd",
   "metadata": {
    "id": "d0ded3fd"
   },
   "source": [
    "## Building the model"
   ]
  },
  {
   "cell_type": "code",
   "execution_count": null,
   "id": "d4e62611",
   "metadata": {
    "id": "d4e62611"
   },
   "outputs": [],
   "source": [
    "\n",
    "# Preprocess the text corpus\n",
    "text_corpus = df['description']\n",
    "processed_corpus = [preprocess_text(doc) for doc in text_corpus]\n",
    "\n",
    "# Create a dictionary of unique words in the corpus\n",
    "dictionary = gensim.corpora.Dictionary(processed_corpus)\n",
    "\n",
    "# Convert the corpus into Bag-of-Words representation\n",
    "bow_corpus = [dictionary.doc2bow(text) for text in processed_corpus]\n",
    "\n",
    "# Compute TF-IDF weights for the corpus\n",
    "tfidf = gensim.models.TfidfModel(bow_corpus, smartirs='npu')\n",
    "tfidf_corpus = tfidf[bow_corpus]\n",
    "\n",
    "# Build an index for similarity calculations\n",
    "index = gensim.similarities.MatrixSimilarity(tfidf_corpus)\n",
    "\n",
    "# Save the objects (dictionary, tfidf, index) into a single pickle file\n",
    "with open('clothing_similarity.pkl', 'wb') as f:\n",
    "    pickle.dump((dictionary, tfidf, index), f)\n"
   ]
  },
  {
   "cell_type": "code",
   "execution_count": null,
   "id": "a41c6020",
   "metadata": {
    "colab": {
     "base_uri": "https://localhost:8080/"
    },
    "id": "a41c6020",
    "outputId": "b3034238-73f3-40b3-8299-ccd510b16d52"
   },
   "outputs": [
    {
     "name": "stdout",
     "output_type": "stream",
     "text": [
      "{'https://www.nike.com/in/t/jordan-brooklyn-fleece-crew-neck-sweatshirt-Ctt2nH/DQ7520-485': 0.84}\n",
      "{'https://www.nike.com/in/t/jordan-brooklyn-fleece-crew-neck-sweatshirt-Ctt2nH/DQ7520-485': 0.84}\n",
      "{'https://www.nike.com/in/t/jordan-two-18-crew-neck-sweatshirt-LVDJzV/DV6966-687': 0.83}\n",
      "{'https://www.nike.com/in/t/jordan-shelflife-crew-neck-sweatshirt-mFtjbW/DV7014-206': 0.83}\n",
      "{'https://www.nike.com/in/t/jordan-titan-crew-neck-sweatshirt-qFtdj8/DV7040-819': 0.83}\n"
     ]
    }
   ],
   "source": [
    "\n",
    "# Define the ranked_results function that accepts a text query and returns the ranked suggestions\n",
    "def ranked_results(text, n):\n",
    "    # Load the objects (dictionary, tfidf, index) from the pickle file\n",
    "    with open('clothing_similarity.pkl', 'rb') as f:\n",
    "        dictionary, tfidf, index = pickle.load(f)\n",
    "\n",
    "    # Preprocess the new document/query\n",
    "    new_doc = preprocess_text(text)\n",
    "\n",
    "    # Convert the preprocessed document to Bag-of-Words representation\n",
    "    new_vec = dictionary.doc2bow(new_doc)\n",
    "\n",
    "    # Compute TF-IDF weights for the new document\n",
    "    vec_bow_tfidf = tfidf[new_vec]\n",
    "\n",
    "    # Calculate similarities between the new document and the corpus\n",
    "    sims = index[vec_bow_tfidf]\n",
    "\n",
    "    # Sort the similarities in descending order and select the top 'n' results\n",
    "    # Generate a generator expression to pair the index and similarity values\n",
    "    sorted_sims = ((idx, similarity) for idx, similarity in enumerate(sims))\n",
    "\n",
    "    # Sort the similarities in descending order based on the similarity value\n",
    "    # The 'key' parameter specifies that we want to sort based on the second item in each pair (similarity)\n",
    "    # The lambda function -item[1] negates the similarity value to achieve descending order\n",
    "    # Select the top 'n' results using slicing\n",
    "    sorted_sims = sorted(sorted_sims, key=lambda item: -item[1])[:n]\n",
    "\n",
    "\n",
    "    # Print the ranked results with their similarity scores\n",
    "    for idx, similarity in sorted_sims:\n",
    "        product_link = df['product_link'].iloc[idx]\n",
    "        print({product_link: round(similarity, 2)})\n",
    "\n",
    "# Calling the ranked_results function with a sample text query\n",
    "# Test Case 1\n",
    "ranked_results(\"Crew-neck sweatshirt for men.\",5)"
   ]
  },
  {
   "cell_type": "code",
   "execution_count": null,
   "id": "13ec80fe",
   "metadata": {
    "colab": {
     "base_uri": "https://localhost:8080/"
    },
    "id": "13ec80fe",
    "outputId": "0649f264-7f94-43fe-bf3a-cdcf4abf5ea6"
   },
   "outputs": [
    {
     "name": "stdout",
     "output_type": "stream",
     "text": [
      "{'https://www.levi.in/women/clothing/pants/levis-women-joggers/A11950003.html': 1.0}\n",
      "{'https://www.levi.in/women/clothing/pants/levis-women-joggers/A11950002.html': 1.0}\n",
      "{'https://www.nike.com/in/t/sportswear-tech-fleece-joggers-h1ntxv/CU4496-491': 0.99}\n",
      "{'https://www.levi.in/men/clothing/pants/levis-mens-joggers/A31870002.html': 0.99}\n",
      "{'https://www.levi.in/men/clothing/pants/levis-mens-jogger-fit-joggers/A07250005.html': 0.98}\n",
      "{'https://www.levi.in/women/clothing/jeans/levis-womens-slim-fit-joggers/A13420004.html': 0.92}\n"
     ]
    }
   ],
   "source": [
    "# Test Case 2\n",
    "ranked_results(\"joggers for women\",6)"
   ]
  },
  {
   "cell_type": "code",
   "execution_count": null,
   "id": "dr9SZZ3KX4Di",
   "metadata": {
    "colab": {
     "base_uri": "https://localhost:8080/"
    },
    "id": "dr9SZZ3KX4Di",
    "outputId": "b2b4315c-be2e-485d-905b-1a6fcfada193"
   },
   "outputs": [
    {
     "name": "stdout",
     "output_type": "stream",
     "text": [
      "{'https://www.nike.com/in/t/epic-fast-mid-rise-running-leggings-L0MXcm/CZ9241-655': 0.83}\n",
      "{'https://www.nike.com/in/t/epic-fast-mid-rise-running-leggings-L0MXcm/CZ9241-655': 0.83}\n",
      "{'https://www.nike.com/in/t/epic-fast-mid-rise-running-leggings-L0MXcm/CZ9241-010': 0.83}\n",
      "{'https://www.nike.com/in/t/dri-fit-swoosh-run-running-shorts-65klmb/DQ6361-430': 0.62}\n",
      "{'https://www.nike.com/in/t/tempo-running-shorts-JxDWvp/CU8893-272': 0.62}\n"
     ]
    }
   ],
   "source": [
    "# Test Case 3\n",
    "ranked_results(\"Women's Running Leggings\",5)"
   ]
  },
  {
   "cell_type": "code",
   "execution_count": null,
   "id": "IxLr09fh3Ci8",
   "metadata": {
    "colab": {
     "base_uri": "https://localhost:8080/"
    },
    "id": "IxLr09fh3Ci8",
    "outputId": "5d3f72e9-5999-4065-d8c2-059e8ca78b44"
   },
   "outputs": [
    {
     "name": "stdout",
     "output_type": "stream",
     "text": [
      "{'https://www.nike.com/in/t/forward-hoodie-hoodie-qKbJFt/DX4303-084': 1.0}\n",
      "{'https://www.nike.com/in/t/forward-hoodie-hoodie-qKbJFt/DX4303-077': 1.0}\n",
      "{'https://www.nike.com/in/t/jordan-artist-series-by-parker-duncan-hoodie-hwPhKF/DX0387-274': 0.99}\n",
      "{'https://www.nike.com/in/t/forward-hoodie-hoodie-0hGfRb/DR4529-077': 0.99}\n",
      "{'https://www.nike.com/in/t/jordan-artist-series-by-parker-duncan-hoodie-hwPhKF/DX0387-274': 0.99}\n",
      "{'https://www.nike.com/in/t/forward-hoodie-hoodie-0hGfRb/DR4529-077': 0.99}\n",
      "{'https://www.nike.com/in/t/forward-hoodie-hoodie-0hGfRb/DR4529-077': 0.99}\n",
      "{'https://www.nike.com/in/t/jordan-artist-series-by-parker-duncan-hoodie-hwPhKF/DX0387-274': 0.99}\n",
      "{'https://www.levi.in/men/clothing/jackets/levis-mens-hoodie-jacket/A45440000.html': 0.79}\n",
      "{'https://www.levi.in/men/clothing/jackets/levis-mens-hoodie-jacket/A45440001.html': 0.79}\n"
     ]
    }
   ],
   "source": [
    "# Test Case 4\n",
    "ranked_results(\"men's Hoodie\",10)"
   ]
  },
  {
   "cell_type": "code",
   "execution_count": null,
   "id": "FntDyK9Y5b-K",
   "metadata": {
    "colab": {
     "base_uri": "https://localhost:8080/"
    },
    "id": "FntDyK9Y5b-K",
    "outputId": "227ace0c-8501-4338-e8a2-900f328e3ce0"
   },
   "outputs": [
    {
     "name": "stdout",
     "output_type": "stream",
     "text": [
      "{'https://www.nike.com/in/t/naomi-osaka-skirt-q16CNk/DX1843-113': 0.95}\n",
      "{'https://www.nike.com/in/t/dri-fit-advantage-tennis-skirt-FZwNLZ/DX1133-010': 0.74}\n",
      "{'https://www.nike.com/in/t/nikecourt-dri-fit-slam-tennis-skirt-fp1tvQ/DR9750-655': 0.74}\n",
      "{'https://www.levi.in/women/clothing/shorts-skirts/levis-womens-pride-skirt/A26540000.html': 0.63}\n",
      "{'https://www.nike.com/in/t/nikecourt-dri-fit-victory-flouncy-tennis-skirt-V0cwGg/DH9553-100': 0.53}\n"
     ]
    }
   ],
   "source": [
    "# Test Case 5\n",
    "ranked_results(\"womens blue skirts\",5)"
   ]
  }
 ],
 "metadata": {
  "colab": {
   "provenance": []
  },
  "kernelspec": {
   "display_name": "Python 3 (ipykernel)",
   "language": "python",
   "name": "python3"
  },
  "language_info": {
   "codemirror_mode": {
    "name": "ipython",
    "version": 3
   },
   "file_extension": ".py",
   "mimetype": "text/x-python",
   "name": "python",
   "nbconvert_exporter": "python",
   "pygments_lexer": "ipython3",
   "version": "3.10.8"
  }
 },
 "nbformat": 4,
 "nbformat_minor": 5
}
